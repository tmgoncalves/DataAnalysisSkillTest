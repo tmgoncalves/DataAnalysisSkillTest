{
 "cells": [
  {
   "cell_type": "markdown",
   "metadata": {},
   "source": [
    "## Data Analysis Skill Test\n",
    "\n",
    "- Attached to this test is a .csv file which contains data from Comexstat, which is basically the official data source for brazilian exports e imports, maintened by the government;\n",
    "- The dataset contains all trackings of monthly imports and exports of a range of products (soybeans, soybean meal, soybean oil, corn, wheat and sugar), by brazilian states, by routes (air, sea, ground, etc) e from/to which country;\n",
    "- We ask you to address a couple quentions below. Remember that data viz is one important skill to show besides any analytical skill. So we encourage you to use and explore a bunch of graphs and tables to show your point."
   ]
  },
  {
   "cell_type": "code",
   "execution_count": 1,
   "metadata": {},
   "outputs": [],
   "source": [
    "import pandas as pd\n",
    "import numpy as np\n",
    "import matplotlib.pyplot as plt\n",
    "import warnings\n",
    "warnings.filterwarnings('ignore')\n",
    "%matplotlib inline"
   ]
  },
  {
   "cell_type": "code",
   "execution_count": 2,
   "metadata": {},
   "outputs": [],
   "source": [
    "#load data\n",
    "comexstat = pd.read_csv('data_comexstat.csv', sep=',',\n",
    "                        encoding='utf-8')"
   ]
  },
  {
   "cell_type": "code",
   "execution_count": 3,
   "metadata": {},
   "outputs": [
    {
     "data": {
      "text/html": [
       "<div>\n",
       "<style scoped>\n",
       "    .dataframe tbody tr th:only-of-type {\n",
       "        vertical-align: middle;\n",
       "    }\n",
       "\n",
       "    .dataframe tbody tr th {\n",
       "        vertical-align: top;\n",
       "    }\n",
       "\n",
       "    .dataframe thead th {\n",
       "        text-align: right;\n",
       "    }\n",
       "</style>\n",
       "<table border=\"1\" class=\"dataframe\">\n",
       "  <thead>\n",
       "    <tr style=\"text-align: right;\">\n",
       "      <th></th>\n",
       "      <th>date</th>\n",
       "      <th>product</th>\n",
       "      <th>state</th>\n",
       "      <th>country</th>\n",
       "      <th>type</th>\n",
       "      <th>route</th>\n",
       "      <th>tons</th>\n",
       "      <th>usd</th>\n",
       "    </tr>\n",
       "  </thead>\n",
       "  <tbody>\n",
       "    <tr>\n",
       "      <th>0</th>\n",
       "      <td>1997-01-01</td>\n",
       "      <td>corn</td>\n",
       "      <td>ES</td>\n",
       "      <td>United States</td>\n",
       "      <td>Import</td>\n",
       "      <td>Sea</td>\n",
       "      <td>44.045</td>\n",
       "      <td>113029.0</td>\n",
       "    </tr>\n",
       "    <tr>\n",
       "      <th>1</th>\n",
       "      <td>1997-01-01</td>\n",
       "      <td>corn</td>\n",
       "      <td>GO</td>\n",
       "      <td>Argentina</td>\n",
       "      <td>Import</td>\n",
       "      <td>Ground</td>\n",
       "      <td>54.000</td>\n",
       "      <td>36720.0</td>\n",
       "    </tr>\n",
       "    <tr>\n",
       "      <th>2</th>\n",
       "      <td>1997-01-01</td>\n",
       "      <td>corn</td>\n",
       "      <td>GO</td>\n",
       "      <td>Bolivia</td>\n",
       "      <td>Export</td>\n",
       "      <td>Ground</td>\n",
       "      <td>0.200</td>\n",
       "      <td>180.0</td>\n",
       "    </tr>\n",
       "    <tr>\n",
       "      <th>3</th>\n",
       "      <td>1997-01-01</td>\n",
       "      <td>corn</td>\n",
       "      <td>GO</td>\n",
       "      <td>United States</td>\n",
       "      <td>Export</td>\n",
       "      <td>Sea</td>\n",
       "      <td>3.488</td>\n",
       "      <td>5688.0</td>\n",
       "    </tr>\n",
       "    <tr>\n",
       "      <th>4</th>\n",
       "      <td>1997-01-01</td>\n",
       "      <td>corn</td>\n",
       "      <td>MG</td>\n",
       "      <td>Argentina</td>\n",
       "      <td>Import</td>\n",
       "      <td>Ground</td>\n",
       "      <td>27.000</td>\n",
       "      <td>18630.0</td>\n",
       "    </tr>\n",
       "    <tr>\n",
       "      <th>5</th>\n",
       "      <td>1997-01-01</td>\n",
       "      <td>corn</td>\n",
       "      <td>MS</td>\n",
       "      <td>Paraguay</td>\n",
       "      <td>Export</td>\n",
       "      <td>Ground</td>\n",
       "      <td>40.000</td>\n",
       "      <td>38700.0</td>\n",
       "    </tr>\n",
       "    <tr>\n",
       "      <th>6</th>\n",
       "      <td>1997-01-01</td>\n",
       "      <td>corn</td>\n",
       "      <td>PE</td>\n",
       "      <td>Argentina</td>\n",
       "      <td>Import</td>\n",
       "      <td>Sea</td>\n",
       "      <td>6300.000</td>\n",
       "      <td>847350.0</td>\n",
       "    </tr>\n",
       "    <tr>\n",
       "      <th>7</th>\n",
       "      <td>1997-01-01</td>\n",
       "      <td>corn</td>\n",
       "      <td>PE</td>\n",
       "      <td>Uruguay</td>\n",
       "      <td>Import</td>\n",
       "      <td>Sea</td>\n",
       "      <td>2625.000</td>\n",
       "      <td>324188.0</td>\n",
       "    </tr>\n",
       "    <tr>\n",
       "      <th>8</th>\n",
       "      <td>1997-01-01</td>\n",
       "      <td>corn</td>\n",
       "      <td>PR</td>\n",
       "      <td>Argentina</td>\n",
       "      <td>Import</td>\n",
       "      <td>Ground</td>\n",
       "      <td>27.000</td>\n",
       "      <td>17010.0</td>\n",
       "    </tr>\n",
       "    <tr>\n",
       "      <th>9</th>\n",
       "      <td>1997-01-01</td>\n",
       "      <td>corn</td>\n",
       "      <td>PR</td>\n",
       "      <td>Netherlands</td>\n",
       "      <td>Export</td>\n",
       "      <td>Sea</td>\n",
       "      <td>170000.000</td>\n",
       "      <td>20000000.0</td>\n",
       "    </tr>\n",
       "    <tr>\n",
       "      <th>10</th>\n",
       "      <td>1997-01-01</td>\n",
       "      <td>corn</td>\n",
       "      <td>PR</td>\n",
       "      <td>Paraguay</td>\n",
       "      <td>Export</td>\n",
       "      <td>Ground</td>\n",
       "      <td>258.300</td>\n",
       "      <td>386733.0</td>\n",
       "    </tr>\n",
       "    <tr>\n",
       "      <th>11</th>\n",
       "      <td>1997-01-01</td>\n",
       "      <td>corn</td>\n",
       "      <td>RS</td>\n",
       "      <td>United States</td>\n",
       "      <td>Export</td>\n",
       "      <td>Sea</td>\n",
       "      <td>70.000</td>\n",
       "      <td>142400.0</td>\n",
       "    </tr>\n",
       "    <tr>\n",
       "      <th>12</th>\n",
       "      <td>1997-01-01</td>\n",
       "      <td>corn</td>\n",
       "      <td>SC</td>\n",
       "      <td>Argentina</td>\n",
       "      <td>Export</td>\n",
       "      <td>Ground</td>\n",
       "      <td>8.000</td>\n",
       "      <td>4000.0</td>\n",
       "    </tr>\n",
       "    <tr>\n",
       "      <th>13</th>\n",
       "      <td>1997-01-01</td>\n",
       "      <td>corn</td>\n",
       "      <td>SP</td>\n",
       "      <td>Argentina</td>\n",
       "      <td>Import</td>\n",
       "      <td>Ground</td>\n",
       "      <td>189.000</td>\n",
       "      <td>123120.0</td>\n",
       "    </tr>\n",
       "    <tr>\n",
       "      <th>14</th>\n",
       "      <td>1997-01-01</td>\n",
       "      <td>corn</td>\n",
       "      <td>SP</td>\n",
       "      <td>Ecuador</td>\n",
       "      <td>Export</td>\n",
       "      <td>Air</td>\n",
       "      <td>0.340</td>\n",
       "      <td>6999.0</td>\n",
       "    </tr>\n",
       "    <tr>\n",
       "      <th>15</th>\n",
       "      <td>1997-01-01</td>\n",
       "      <td>corn</td>\n",
       "      <td>SP</td>\n",
       "      <td>Paraguay</td>\n",
       "      <td>Export</td>\n",
       "      <td>Ground</td>\n",
       "      <td>26.380</td>\n",
       "      <td>38728.0</td>\n",
       "    </tr>\n",
       "    <tr>\n",
       "      <th>16</th>\n",
       "      <td>1997-01-01</td>\n",
       "      <td>corn</td>\n",
       "      <td>SP</td>\n",
       "      <td>Paraguay</td>\n",
       "      <td>Export</td>\n",
       "      <td>Other</td>\n",
       "      <td>1.022</td>\n",
       "      <td>1876.0</td>\n",
       "    </tr>\n",
       "    <tr>\n",
       "      <th>17</th>\n",
       "      <td>1997-01-01</td>\n",
       "      <td>corn</td>\n",
       "      <td>SP</td>\n",
       "      <td>Paraguay</td>\n",
       "      <td>Import</td>\n",
       "      <td>Ground</td>\n",
       "      <td>2000.000</td>\n",
       "      <td>159340.0</td>\n",
       "    </tr>\n",
       "    <tr>\n",
       "      <th>18</th>\n",
       "      <td>1997-01-01</td>\n",
       "      <td>corn</td>\n",
       "      <td>SP</td>\n",
       "      <td>United States</td>\n",
       "      <td>Import</td>\n",
       "      <td>Sea</td>\n",
       "      <td>301.520</td>\n",
       "      <td>84009.0</td>\n",
       "    </tr>\n",
       "    <tr>\n",
       "      <th>19</th>\n",
       "      <td>1997-01-01</td>\n",
       "      <td>soybean_meal</td>\n",
       "      <td>GO</td>\n",
       "      <td>Netherlands</td>\n",
       "      <td>Export</td>\n",
       "      <td>Sea</td>\n",
       "      <td>419.070</td>\n",
       "      <td>119318.0</td>\n",
       "    </tr>\n",
       "  </tbody>\n",
       "</table>\n",
       "</div>"
      ],
      "text/plain": [
       "          date       product state        country    type   route        tons  \\\n",
       "0   1997-01-01          corn    ES  United States  Import     Sea      44.045   \n",
       "1   1997-01-01          corn    GO      Argentina  Import  Ground      54.000   \n",
       "2   1997-01-01          corn    GO        Bolivia  Export  Ground       0.200   \n",
       "3   1997-01-01          corn    GO  United States  Export     Sea       3.488   \n",
       "4   1997-01-01          corn    MG      Argentina  Import  Ground      27.000   \n",
       "5   1997-01-01          corn    MS       Paraguay  Export  Ground      40.000   \n",
       "6   1997-01-01          corn    PE      Argentina  Import     Sea    6300.000   \n",
       "7   1997-01-01          corn    PE        Uruguay  Import     Sea    2625.000   \n",
       "8   1997-01-01          corn    PR      Argentina  Import  Ground      27.000   \n",
       "9   1997-01-01          corn    PR    Netherlands  Export     Sea  170000.000   \n",
       "10  1997-01-01          corn    PR       Paraguay  Export  Ground     258.300   \n",
       "11  1997-01-01          corn    RS  United States  Export     Sea      70.000   \n",
       "12  1997-01-01          corn    SC      Argentina  Export  Ground       8.000   \n",
       "13  1997-01-01          corn    SP      Argentina  Import  Ground     189.000   \n",
       "14  1997-01-01          corn    SP        Ecuador  Export     Air       0.340   \n",
       "15  1997-01-01          corn    SP       Paraguay  Export  Ground      26.380   \n",
       "16  1997-01-01          corn    SP       Paraguay  Export   Other       1.022   \n",
       "17  1997-01-01          corn    SP       Paraguay  Import  Ground    2000.000   \n",
       "18  1997-01-01          corn    SP  United States  Import     Sea     301.520   \n",
       "19  1997-01-01  soybean_meal    GO    Netherlands  Export     Sea     419.070   \n",
       "\n",
       "           usd  \n",
       "0     113029.0  \n",
       "1      36720.0  \n",
       "2        180.0  \n",
       "3       5688.0  \n",
       "4      18630.0  \n",
       "5      38700.0  \n",
       "6     847350.0  \n",
       "7     324188.0  \n",
       "8      17010.0  \n",
       "9   20000000.0  \n",
       "10    386733.0  \n",
       "11    142400.0  \n",
       "12      4000.0  \n",
       "13    123120.0  \n",
       "14      6999.0  \n",
       "15     38728.0  \n",
       "16      1876.0  \n",
       "17    159340.0  \n",
       "18     84009.0  \n",
       "19    119318.0  "
      ]
     },
     "execution_count": 3,
     "metadata": {},
     "output_type": "execute_result"
    }
   ],
   "source": [
    "comexstat.head(20)"
   ]
  },
  {
   "cell_type": "code",
   "execution_count": 4,
   "metadata": {},
   "outputs": [
    {
     "data": {
      "text/html": [
       "<div>\n",
       "<style scoped>\n",
       "    .dataframe tbody tr th:only-of-type {\n",
       "        vertical-align: middle;\n",
       "    }\n",
       "\n",
       "    .dataframe tbody tr th {\n",
       "        vertical-align: top;\n",
       "    }\n",
       "\n",
       "    .dataframe thead th {\n",
       "        text-align: right;\n",
       "    }\n",
       "</style>\n",
       "<table border=\"1\" class=\"dataframe\">\n",
       "  <thead>\n",
       "    <tr style=\"text-align: right;\">\n",
       "      <th></th>\n",
       "      <th>date</th>\n",
       "      <th>product</th>\n",
       "      <th>state</th>\n",
       "      <th>country</th>\n",
       "      <th>type</th>\n",
       "      <th>route</th>\n",
       "      <th>tons</th>\n",
       "      <th>usd</th>\n",
       "    </tr>\n",
       "  </thead>\n",
       "  <tbody>\n",
       "    <tr>\n",
       "      <th>117960</th>\n",
       "      <td>2019-12-01</td>\n",
       "      <td>wheat</td>\n",
       "      <td>SP</td>\n",
       "      <td>Argentina</td>\n",
       "      <td>Import</td>\n",
       "      <td>Sea</td>\n",
       "      <td>87124.765</td>\n",
       "      <td>17897516.0</td>\n",
       "    </tr>\n",
       "    <tr>\n",
       "      <th>117961</th>\n",
       "      <td>2019-12-01</td>\n",
       "      <td>wheat</td>\n",
       "      <td>SP</td>\n",
       "      <td>Ireland</td>\n",
       "      <td>Export</td>\n",
       "      <td>Sea</td>\n",
       "      <td>0.500</td>\n",
       "      <td>477.0</td>\n",
       "    </tr>\n",
       "    <tr>\n",
       "      <th>117962</th>\n",
       "      <td>2019-12-01</td>\n",
       "      <td>wheat</td>\n",
       "      <td>SP</td>\n",
       "      <td>Lebanon</td>\n",
       "      <td>Import</td>\n",
       "      <td>Sea</td>\n",
       "      <td>5.769</td>\n",
       "      <td>6726.0</td>\n",
       "    </tr>\n",
       "    <tr>\n",
       "      <th>117963</th>\n",
       "      <td>2019-12-01</td>\n",
       "      <td>wheat</td>\n",
       "      <td>SP</td>\n",
       "      <td>Liberia</td>\n",
       "      <td>Export</td>\n",
       "      <td>Other</td>\n",
       "      <td>0.025</td>\n",
       "      <td>50.0</td>\n",
       "    </tr>\n",
       "    <tr>\n",
       "      <th>117964</th>\n",
       "      <td>2019-12-01</td>\n",
       "      <td>wheat</td>\n",
       "      <td>SP</td>\n",
       "      <td>Marshall Islands</td>\n",
       "      <td>Export</td>\n",
       "      <td>Other</td>\n",
       "      <td>0.010</td>\n",
       "      <td>85.0</td>\n",
       "    </tr>\n",
       "  </tbody>\n",
       "</table>\n",
       "</div>"
      ],
      "text/plain": [
       "              date product state           country    type  route       tons  \\\n",
       "117960  2019-12-01   wheat    SP         Argentina  Import    Sea  87124.765   \n",
       "117961  2019-12-01   wheat    SP           Ireland  Export    Sea      0.500   \n",
       "117962  2019-12-01   wheat    SP           Lebanon  Import    Sea      5.769   \n",
       "117963  2019-12-01   wheat    SP           Liberia  Export  Other      0.025   \n",
       "117964  2019-12-01   wheat    SP  Marshall Islands  Export  Other      0.010   \n",
       "\n",
       "               usd  \n",
       "117960  17897516.0  \n",
       "117961       477.0  \n",
       "117962      6726.0  \n",
       "117963        50.0  \n",
       "117964        85.0  "
      ]
     },
     "execution_count": 4,
     "metadata": {},
     "output_type": "execute_result"
    }
   ],
   "source": [
    "comexstat.tail(5)"
   ]
  },
  {
   "cell_type": "code",
   "execution_count": 5,
   "metadata": {},
   "outputs": [
    {
     "data": {
      "text/plain": [
       "(117965, 8)"
      ]
     },
     "execution_count": 5,
     "metadata": {},
     "output_type": "execute_result"
    }
   ],
   "source": [
    "#dataset shape\n",
    "comexstat.shape"
   ]
  },
  {
   "cell_type": "code",
   "execution_count": 6,
   "metadata": {},
   "outputs": [
    {
     "data": {
      "text/plain": [
       "date        object\n",
       "product     object\n",
       "state       object\n",
       "country     object\n",
       "type        object\n",
       "route       object\n",
       "tons       float64\n",
       "usd        float64\n",
       "dtype: object"
      ]
     },
     "execution_count": 6,
     "metadata": {},
     "output_type": "execute_result"
    }
   ],
   "source": [
    "#information regarding dataframe\n",
    "comexstat.dtypes"
   ]
  },
  {
   "cell_type": "code",
   "execution_count": 7,
   "metadata": {},
   "outputs": [],
   "source": [
    "#convert date\n",
    "comexstat['date'] = pd.to_datetime(comexstat['date'])"
   ]
  },
  {
   "cell_type": "code",
   "execution_count": 8,
   "metadata": {},
   "outputs": [
    {
     "name": "stdout",
     "output_type": "stream",
     "text": [
      "Variable name:  date\n",
      "2019-08-01    1204\n",
      "2019-09-01    1101\n",
      "2019-10-01    1082\n",
      "2019-07-01    1072\n",
      "2019-11-01     988\n",
      "2019-05-01     969\n",
      "2019-12-01     916\n",
      "2019-06-01     913\n",
      "2018-11-01     880\n",
      "2019-01-01     875\n",
      "2019-04-01     872\n",
      "2018-12-01     868\n",
      "2019-03-01     858\n",
      "2018-10-01     824\n",
      "2012-10-01     815\n",
      "2015-10-01     809\n",
      "2015-09-01     799\n",
      "2017-08-01     784\n",
      "2015-12-01     777\n",
      "2013-08-01     777\n",
      "2017-09-01     768\n",
      "2018-08-01     750\n",
      "2019-02-01     750\n",
      "2015-08-01     740\n",
      "2012-09-01     738\n",
      "2018-09-01     718\n",
      "2017-07-01     717\n",
      "2015-11-01     716\n",
      "2013-09-01     708\n",
      "2015-07-01     708\n",
      "              ... \n",
      "1999-12-01     182\n",
      "2003-01-01     182\n",
      "2000-09-01     181\n",
      "1998-11-01     180\n",
      "2003-02-01     179\n",
      "2000-11-01     176\n",
      "2002-03-01     175\n",
      "1999-11-01     172\n",
      "2002-04-01     171\n",
      "2000-12-01     171\n",
      "1998-12-01     170\n",
      "2002-02-01     162\n",
      "1997-10-01     162\n",
      "2001-01-01     161\n",
      "2002-01-01     159\n",
      "1999-03-01     155\n",
      "2000-03-01     153\n",
      "1997-03-01     147\n",
      "2001-02-01     146\n",
      "1999-01-01     141\n",
      "1999-02-01     139\n",
      "2000-01-01     131\n",
      "1998-03-01     125\n",
      "2000-02-01     123\n",
      "1997-11-01     114\n",
      "1997-12-01     106\n",
      "1998-01-01     101\n",
      "1997-01-01     100\n",
      "1998-02-01      86\n",
      "1997-02-01      84\n",
      "Name: date, Length: 276, dtype: int64\n",
      "\n",
      "\n",
      "Variable name:  product\n",
      "sugar           35202\n",
      "soybeans        22914\n",
      "corn            21872\n",
      "soybean_meal    18215\n",
      "soybean_oil     16116\n",
      "wheat            3646\n",
      "Name: product, dtype: int64\n",
      "\n",
      "\n",
      "Variable name:  state\n",
      "SP    28713\n",
      "PR    17155\n",
      "MT    16837\n",
      "GO    10981\n",
      "RS     8147\n",
      "MG     7983\n",
      "MS     7382\n",
      "SC     5673\n",
      "BA     1986\n",
      "PE     1714\n",
      "MA     1221\n",
      "PA     1215\n",
      "RO     1195\n",
      "RJ     1157\n",
      "AL     1148\n",
      "TO     1033\n",
      "ES      971\n",
      "PI      576\n",
      "DF      542\n",
      "PB      515\n",
      "CE      409\n",
      "RN      396\n",
      "AM      349\n",
      "RR      329\n",
      "SE      227\n",
      "AC       70\n",
      "AP       41\n",
      "Name: state, dtype: int64\n",
      "\n",
      "\n",
      "Variable name:  country\n",
      "China                          7437\n",
      "Paraguay                       7160\n",
      "Netherlands                    7158\n",
      "Argentina                      4842\n",
      "Spain                          3777\n",
      "United States                  3717\n",
      "Germany                        3222\n",
      "France                         3206\n",
      "Iran                           3089\n",
      "Uruguay                        2819\n",
      "South Korea                    2698\n",
      "Japan                          2634\n",
      "Bolivia                        2632\n",
      "Thailand                       2129\n",
      "Italy                          2074\n",
      "United Kingdom                 1807\n",
      "Taiwan                         1718\n",
      "India                          1609\n",
      "Egypt                          1525\n",
      "Saudi Arabia                   1482\n",
      "Bangladesh                     1453\n",
      "Malaysia                       1447\n",
      "Vietnam                        1444\n",
      "Peru                           1429\n",
      "Angola                         1405\n",
      "Portugal                       1382\n",
      "Venezuela                      1341\n",
      "Indonesia                      1268\n",
      "Morocco                        1160\n",
      "South Africa                   1151\n",
      "                               ... \n",
      "Tuvalu                            5\n",
      "Madeira                           4\n",
      "Chad                              3\n",
      "Zimbabwe                          3\n",
      "Macedonia                         3\n",
      "Luxembourg                        3\n",
      "Montserrat                        2\n",
      "Tajikistan                        2\n",
      "Zambia                            2\n",
      "Mayotte                           2\n",
      "Brunei                            2\n",
      "To define                         2\n",
      "Guadeloupe                        2\n",
      "Anguilla                          2\n",
      "Reunion                           2\n",
      "Botswana                          2\n",
      "Johnston (Island)                 1\n",
      "French Southern Lands             1\n",
      "Christmas Island                  1\n",
      "Virgin Islands (USA)              1\n",
      "Guam                              1\n",
      "Liechtenstein                     1\n",
      "Maldives                          1\n",
      "Wake Island                       1\n",
      "Belarus                           1\n",
      "Falkland Islands (Malvinas)       1\n",
      "Solomon Islands                   1\n",
      "Monaco                            1\n",
      "Pacific Islands (USA)             1\n",
      "Moldova                           1\n",
      "Name: country, Length: 212, dtype: int64\n",
      "\n",
      "\n",
      "Variable name:  type\n",
      "Export    105861\n",
      "Import     12104\n",
      "Name: type, dtype: int64\n",
      "\n",
      "\n",
      "Variable name:  route\n",
      "Sea       93870\n",
      "Ground    13038\n",
      "Other      6374\n",
      "Air        2918\n",
      "River      1765\n",
      "Name: route, dtype: int64\n",
      "\n",
      "\n",
      "Variable name:  tons\n",
      "1000.000      1441\n",
      "2000.000      1231\n",
      "0.000          941\n",
      "3000.000       885\n",
      "5000.000       759\n",
      "500.000        743\n",
      "270.000        738\n",
      "14000.000      676\n",
      "4000.000       628\n",
      "540.000        548\n",
      "1500.000       537\n",
      "10000.000      504\n",
      "7000.000       453\n",
      "6000.000       437\n",
      "2500.000       405\n",
      "100.000        372\n",
      "27.000         357\n",
      "0.001          345\n",
      "20.000         334\n",
      "8000.000       329\n",
      "26.000         297\n",
      "135.000        280\n",
      "40.000         272\n",
      "25.000         271\n",
      "50.000         266\n",
      "810.000        264\n",
      "1080.000       263\n",
      "1.000          260\n",
      "3500.000       258\n",
      "54.000         257\n",
      "              ... \n",
      "143.520          1\n",
      "350.960          1\n",
      "31700.195        1\n",
      "17525.480        1\n",
      "4523.260         1\n",
      "897.200          1\n",
      "982.370          1\n",
      "63176.638        1\n",
      "22767.360        1\n",
      "15072.019        1\n",
      "58869.705        1\n",
      "18347.272        1\n",
      "1384.350         1\n",
      "105714.811       1\n",
      "107.889          1\n",
      "3209.860         1\n",
      "57778.325        1\n",
      "4787.368         1\n",
      "62662.230        1\n",
      "4388.183         1\n",
      "11306.166        1\n",
      "55832.516        1\n",
      "17058.750        1\n",
      "265.331          1\n",
      "128.899          1\n",
      "11002.558        1\n",
      "560.590          1\n",
      "5624.419         1\n",
      "29706.520        1\n",
      "111.120          1\n",
      "Name: tons, Length: 63637, dtype: int64\n",
      "\n",
      "\n",
      "Variable name:  usd\n",
      "12.0          93\n",
      "5.0           90\n",
      "14.0          90\n",
      "13.0          86\n",
      "25.0          86\n",
      "19.0          84\n",
      "10.0          82\n",
      "7.0           80\n",
      "6.0           78\n",
      "8.0           78\n",
      "20.0          77\n",
      "16.0          74\n",
      "28.0          72\n",
      "11.0          69\n",
      "26.0          67\n",
      "24.0          65\n",
      "9.0           64\n",
      "1.0           63\n",
      "21.0          63\n",
      "18.0          63\n",
      "15.0          63\n",
      "40.0          62\n",
      "34.0          61\n",
      "29.0          60\n",
      "30.0          59\n",
      "22.0          59\n",
      "27.0          59\n",
      "4.0           58\n",
      "23.0          57\n",
      "35.0          56\n",
      "              ..\n",
      "108958.0       1\n",
      "2600449.0      1\n",
      "435833.0       1\n",
      "4876199.0      1\n",
      "871671.0       1\n",
      "108959.0       1\n",
      "2438000.0      1\n",
      "39007872.0     1\n",
      "108224.0       1\n",
      "1218995.0      1\n",
      "1143586.0      1\n",
      "34592.0        1\n",
      "1218953.0      1\n",
      "180538.0       1\n",
      "6796757.0      1\n",
      "3887362.0      1\n",
      "1002698.0      1\n",
      "8021599.0      1\n",
      "71170730.0     1\n",
      "969498.0       1\n",
      "4743581.0      1\n",
      "210862.0       1\n",
      "4031461.0      1\n",
      "370959.0       1\n",
      "2499754.0      1\n",
      "17805.0        1\n",
      "1886975.0      1\n",
      "11849080.0     1\n",
      "13495194.0     1\n",
      "6971.0         1\n",
      "Name: usd, Length: 99273, dtype: int64\n",
      "\n",
      "\n"
     ]
    }
   ],
   "source": [
    "for i in comexstat:\n",
    "    print('Variable name: ', i)\n",
    "    print(comexstat[i].value_counts())\n",
    "    print('\\n')"
   ]
  },
  {
   "cell_type": "code",
   "execution_count": 9,
   "metadata": {},
   "outputs": [
    {
     "data": {
      "text/plain": [
       "0"
      ]
     },
     "execution_count": 9,
     "metadata": {},
     "output_type": "execute_result"
    }
   ],
   "source": [
    "#missing values \n",
    "sum(comexstat.isnull().any())"
   ]
  },
  {
   "cell_type": "code",
   "execution_count": 10,
   "metadata": {},
   "outputs": [],
   "source": [
    "#import\n",
    "comexstat_import=comexstat[(comexstat.type =='Import')]\n",
    "comexstat_import.to_csv('comexstat_import.csv', index=False)\n",
    "comexstat_import = pd.read_csv('comexstat_import.csv', parse_dates=['date'],index_col='date', )\n",
    "comexstat_import.index.name = None"
   ]
  },
  {
   "cell_type": "code",
   "execution_count": 11,
   "metadata": {},
   "outputs": [
    {
     "data": {
      "text/plain": [
       "Text(0.5, 1.0, 'Largest Importing States 2015-2020')"
      ]
     },
     "execution_count": 11,
     "metadata": {},
     "output_type": "execute_result"
    },
    {
     "data": {
      "image/png": "[encoded data removed]",
      "text/plain": [
       "<Figure size 1296x720 with 1 Axes>"
      ]
     },
     "metadata": {
      "needs_background": "light"
     },
     "output_type": "display_data"
    }
   ],
   "source": [
    "#states imports\n",
    "statei = (comexstat_import['2015':'2020'].groupby('state')['usd'].sum()/1000000000).sort_values(ascending=False).head(5).tolist()\n",
    "statei_plan = (comexstat_import['2015':'2020'].groupby('state')['usd'].sum().sort_values(ascending=False)/1000000000).head(5).index.tolist()\n",
    "yi_pos = np.arange(len(statei_plan))\n",
    "plt.figure(figsize=(18,10))\n",
    "plt.subplot(221)\n",
    "plt.bar(yi_pos, statei, align='center', alpha=0.5)\n",
    "plt.xticks(yi_pos, statei_plan, rotation=0)\n",
    "plt.ylabel('USD(trillion)')\n",
    "plt.title('Largest Importing States 2015-2020')"
   ]
  },
  {
   "cell_type": "code",
   "execution_count": 12,
   "metadata": {},
   "outputs": [],
   "source": [
    "#export\n",
    "comexstat_export=comexstat[(comexstat.type =='Export')]\n",
    "comexstat_export.to_csv('comexstat_export.csv', index=False)\n",
    "comexstat_export = pd.read_csv('comexstat_export.csv', parse_dates=['date'],index_col='date', )\n",
    "comexstat_export.index.name = None"
   ]
  },
  {
   "cell_type": "code",
   "execution_count": 13,
   "metadata": {},
   "outputs": [
    {
     "data": {
      "text/plain": [
       "Text(0.5, 1.0, 'Largest Exporting States 2017')"
      ]
     },
     "execution_count": 13,
     "metadata": {},
     "output_type": "execute_result"
    },
    {
     "data": {
      "image/png": "[encoded data removed]",
      "text/plain": [
       "<Figure size 1296x720 with 4 Axes>"
      ]
     },
     "metadata": {
      "needs_background": "light"
     },
     "output_type": "display_data"
    }
   ],
   "source": [
    "#states exports\n",
    "statee1 = (comexstat_export['2015':'2020'].groupby('state')['usd'].sum()/1000000000).sort_values(ascending=False).head(5).tolist()\n",
    "statee_plan1 = (comexstat_export['2015':'2020'].groupby('state')['usd'].sum().sort_values(ascending=False)/1000000000).head(5).index.tolist()\n",
    "ye_pos1 = np.arange(len(statee_plan1))\n",
    "plt.figure(figsize=(18,10))\n",
    "plt.subplot(221)\n",
    "plt.bar(ye_pos1, statee1, align='center', alpha=0.5)\n",
    "plt.xticks(ye_pos1, statee_plan1, rotation=0)\n",
    "plt.ylabel('USD(trillion)')\n",
    "plt.title('Largest Exporting States 2015-2019')\n",
    "\n",
    "statee2 = (comexstat_export['2015'].groupby('state')['usd'].sum()/1000000000).sort_values(ascending=False).head(5).tolist()\n",
    "statee_plan2 = (comexstat_export['2015'].groupby('state')['usd'].sum().sort_values(ascending=False)/1000000000).head(5).index.tolist()\n",
    "ye_pos2 = np.arange(len(statee_plan2))\n",
    "plt.subplot(222)\n",
    "plt.bar(ye_pos2, statee2, align='center', alpha=0.5)\n",
    "plt.xticks(ye_pos2, statee_plan2, rotation=0)\n",
    "plt.ylabel('USD(trillion)')\n",
    "plt.title('Largest Exporting States 2015')\n",
    "\n",
    "statee3 = (comexstat_export['2016'].groupby('state')['usd'].sum()/1000000000).sort_values(ascending=False).head(5).tolist()\n",
    "statee_plan3 = (comexstat_export['2016'].groupby('state')['usd'].sum().sort_values(ascending=False)/1000000000).head(5).index.tolist()\n",
    "ye_pos3 = np.arange(len(statee_plan3))\n",
    "plt.subplot(223)\n",
    "plt.bar(ye_pos3, statee3, align='center', alpha=0.5)\n",
    "plt.xticks(ye_pos3, statee_plan3, rotation=0)\n",
    "plt.ylabel('USD(trillion)')\n",
    "plt.title('Largest Exporting States 2016')\n",
    "\n",
    "statee4 = (comexstat_export['2017'].groupby('state')['usd'].sum()/1000000000).sort_values(ascending=False).head(5).tolist()\n",
    "statee_plan4 = (comexstat_export['2017'].groupby('state')['usd'].sum().sort_values(ascending=False)/1000000000).head(5).index.tolist()\n",
    "ye_pos4 = np.arange(len(statee_plan4))\n",
    "plt.subplot(224)\n",
    "plt.bar(ye_pos4, statee4, align='center', alpha=0.5)\n",
    "plt.xticks(ye_pos4, statee_plan4, rotation=0)\n",
    "plt.ylabel('USD(trillion)')\n",
    "plt.title('Largest Exporting States 2017')"
   ]
  },
  {
   "cell_type": "code",
   "execution_count": 14,
   "metadata": {},
   "outputs": [
    {
     "data": {
      "text/plain": [
       "Text(0.5, 1.0, 'Largest Exporting States 2019')"
      ]
     },
     "execution_count": 14,
     "metadata": {},
     "output_type": "execute_result"
    },
    {
     "data": {
      "image/png": "[encoded data removed]",
      "text/plain": [
       "<Figure size 1296x720 with 2 Axes>"
      ]
     },
     "metadata": {
      "needs_background": "light"
     },
     "output_type": "display_data"
    }
   ],
   "source": [
    "statee5 = (comexstat_export['2018'].groupby('state')['usd'].sum()/1000000000).sort_values(ascending=False).head(5).tolist()\n",
    "statee_plan5 = (comexstat_export['2018'].groupby('state')['usd'].sum().sort_values(ascending=False)/1000000000).head(5).index.tolist()\n",
    "ye_pos5 = np.arange(len(statee_plan5))\n",
    "plt.figure(figsize=(18,10))\n",
    "plt.subplot(221)\n",
    "plt.bar(ye_pos5, statee5, align='center', alpha=0.5)\n",
    "plt.xticks(ye_pos5, statee_plan5, rotation=0)\n",
    "plt.ylabel('USD(trillion)')\n",
    "plt.title('Largest Exporting States 2018')\n",
    "\n",
    "statee6 = (comexstat_export['2019'].groupby('state')['usd'].sum()/1000000000).sort_values(ascending=False).head(5).tolist()\n",
    "statee_plan6 = (comexstat_export['2019'].groupby('state')['usd'].sum().sort_values(ascending=False)/1000000000).head(5).index.tolist()\n",
    "ye_pos6 = np.arange(len(statee_plan6))\n",
    "plt.subplot(222)\n",
    "plt.bar(ye_pos6, statee6, align='center', alpha=0.5)\n",
    "plt.xticks(ye_pos6, statee_plan6, rotation=0)\n",
    "plt.ylabel('USD(trillion)')\n",
    "plt.title('Largest Exporting States 2019')"
   ]
  },
  {
   "cell_type": "code",
   "execution_count": 15,
   "metadata": {},
   "outputs": [
    {
     "data": {
      "text/plain": [
       "Text(0.5, 1.0, 'Largest Exporting Products 2017')"
      ]
     },
     "execution_count": 15,
     "metadata": {},
     "output_type": "execute_result"
    },
    {
     "data": {
      "image/png": "[encoded data removed]",
      "text/plain": [
       "<Figure size 1296x720 with 4 Axes>"
      ]
     },
     "metadata": {
      "needs_background": "light"
     },
     "output_type": "display_data"
    }
   ],
   "source": [
    "#product exports\n",
    "prode1 = (comexstat_export['2015':'2020'].groupby('product')['tons'].sum()/1000000).sort_values(ascending=False).head(5).tolist()\n",
    "prod_plan1 = (comexstat_export['2015':'2020'].groupby('product')['tons'].sum().sort_values(ascending=False)/1000000).head(5).index.tolist()\n",
    "yp_pos1 = np.arange(len(prod_plan1))\n",
    "plt.figure(figsize=(18,10))\n",
    "plt.subplot(221)\n",
    "plt.bar(yp_pos1, prode1, align='center', alpha=0.5)\n",
    "plt.xticks(ye_pos1, prod_plan1, rotation=0)\n",
    "plt.ylabel('Tons (million)')\n",
    "plt.title('Largest Exporting Products 2015-2019')\n",
    "\n",
    "prode2 = (comexstat_export['2015'].groupby('product')['tons'].sum()/1000000).sort_values(ascending=False).head(5).tolist()\n",
    "prod_plan2 = (comexstat_export['2015'].groupby('product')['tons'].sum().sort_values(ascending=False)/1000000).head(5).index.tolist()\n",
    "yp_pos2 = np.arange(len(prod_plan2))\n",
    "plt.subplot(222)\n",
    "plt.bar(yp_pos2, prode2, align='center', alpha=0.5)\n",
    "plt.xticks(ye_pos2, prod_plan2, rotation=0)\n",
    "plt.ylabel('Tons (million)')\n",
    "plt.title('Largest Exporting Products 2015')\n",
    "\n",
    "prode3 = (comexstat_export['2016'].groupby('product')['tons'].sum()/1000000).sort_values(ascending=False).head(5).tolist()\n",
    "prod_plan3 = (comexstat_export['2016'].groupby('product')['tons'].sum().sort_values(ascending=False)/1000000).head(5).index.tolist()\n",
    "yp_pos3 = np.arange(len(prod_plan3))\n",
    "plt.subplot(223)\n",
    "plt.bar(yp_pos3, prode3, align='center', alpha=0.5)\n",
    "plt.xticks(ye_pos3, prod_plan3, rotation=0)\n",
    "plt.ylabel('Tons (million)')\n",
    "plt.title('Largest Exporting Products 2016')\n",
    "\n",
    "prode4 = (comexstat_export['2017'].groupby('product')['tons'].sum()/1000000).sort_values(ascending=False).head(5).tolist()\n",
    "prod_plan4 = (comexstat_export['2017'].groupby('product')['tons'].sum().sort_values(ascending=False)/1000000).head(5).index.tolist()\n",
    "yp_pos4 = np.arange(len(prod_plan4))\n",
    "plt.subplot(224)\n",
    "plt.bar(yp_pos4, prode4, align='center', alpha=0.5)\n",
    "plt.xticks(ye_pos4, prod_plan4, rotation=0)\n",
    "plt.ylabel('Tons (million)')\n",
    "plt.title('Largest Exporting Products 2017')"
   ]
  },
  {
   "cell_type": "code",
   "execution_count": 16,
   "metadata": {},
   "outputs": [
    {
     "data": {
      "text/plain": [
       "Text(0.5, 1.0, 'Largest Exporting Products 2019')"
      ]
     },
     "execution_count": 16,
     "metadata": {},
     "output_type": "execute_result"
    },
    {
     "data": {
      "image/png": "[encoded data removed]",
      "text/plain": [
       "<Figure size 1296x720 with 2 Axes>"
      ]
     },
     "metadata": {
      "needs_background": "light"
     },
     "output_type": "display_data"
    }
   ],
   "source": [
    "prode5 = (comexstat_export['2018'].groupby('product')['tons'].sum()/1000000).sort_values(ascending=False).head(5).tolist()\n",
    "prod_plan5 = (comexstat_export['2018'].groupby('product')['tons'].sum().sort_values(ascending=False)/1000000).head(5).index.tolist()\n",
    "yp_pos5 = np.arange(len(prod_plan5))\n",
    "plt.figure(figsize=(18,10))\n",
    "plt.subplot(221)\n",
    "plt.bar(yp_pos5, prode5, align='center', alpha=0.5)\n",
    "plt.xticks(ye_pos5, prod_plan5, rotation=0)\n",
    "plt.ylabel('Tons (million)')\n",
    "plt.title('Largest Exporting Products 2018')\n",
    "\n",
    "prode6 = (comexstat_export['2019'].groupby('product')['tons'].sum()/1000000).sort_values(ascending=False).head(5).tolist()\n",
    "prod_plan6 = (comexstat_export['2019'].groupby('product')['tons'].sum().sort_values(ascending=False)/1000000).head(5).index.tolist()\n",
    "yp_pos6 = np.arange(len(prod_plan6))\n",
    "plt.subplot(222)\n",
    "plt.bar(yp_pos6, prode6, align='center', alpha=0.5)\n",
    "plt.xticks(ye_pos6, prod_plan6, rotation=0)\n",
    "plt.ylabel('Tons (million)')\n",
    "plt.title('Largest Exporting Products 2019')"
   ]
  },
  {
   "cell_type": "code",
   "execution_count": 17,
   "metadata": {},
   "outputs": [
    {
     "data": {
      "text/plain": [
       "country\n",
       "China          99.822558\n",
       "Netherlands     8.949243\n",
       "Iran            8.497975\n",
       "Spain           6.283976\n",
       "Thailand        6.216738\n",
       "Name: usd, dtype: float64"
      ]
     },
     "execution_count": 17,
     "metadata": {},
     "output_type": "execute_result"
    }
   ],
   "source": [
    "#most important products exported by Brazil in the last 5 years\n",
    "#China, Netherlands, Iran;\n",
    "(comexstat_export['2015':'2020'].groupby('country')['usd'].sum()/1000000000).sort_values(ascending=False).head(5)"
   ]
  },
  {
   "cell_type": "code",
   "execution_count": 18,
   "metadata": {},
   "outputs": [
    {
     "data": {
      "text/plain": [
       "country\n",
       "China          16.721284\n",
       "Netherlands     1.998707\n",
       "Vietnam         1.400081\n",
       "Iran            1.273025\n",
       "Spain           1.215137\n",
       "Name: usd, dtype: float64"
      ]
     },
     "execution_count": 18,
     "metadata": {},
     "output_type": "execute_result"
    }
   ],
   "source": [
    "(comexstat_export['2015'].groupby('country')['usd'].sum()/1000000000).sort_values(ascending=False).head(5)"
   ]
  },
  {
   "cell_type": "code",
   "execution_count": 19,
   "metadata": {},
   "outputs": [
    {
     "data": {
      "text/plain": [
       "country\n",
       "China          15.414830\n",
       "Netherlands     1.785786\n",
       "Iran            1.737373\n",
       "India           1.264078\n",
       "Indonesia       1.245250\n",
       "Name: usd, dtype: float64"
      ]
     },
     "execution_count": 19,
     "metadata": {},
     "output_type": "execute_result"
    }
   ],
   "source": [
    "(comexstat_export['2016'].groupby('country')['usd'].sum()/1000000000).sort_values(ascending=False).head(5)"
   ]
  },
  {
   "cell_type": "code",
   "execution_count": 20,
   "metadata": {},
   "outputs": [
    {
     "data": {
      "text/plain": [
       "country\n",
       "China          20.675322\n",
       "Netherlands     1.785492\n",
       "Iran            1.711467\n",
       "Bangladesh      1.347747\n",
       "Spain           1.319968\n",
       "Name: usd, dtype: float64"
      ]
     },
     "execution_count": 20,
     "metadata": {},
     "output_type": "execute_result"
    }
   ],
   "source": [
    "(comexstat_export['2017'].groupby('country')['usd'].sum()/1000000000).sort_values(ascending=False).head(5)"
   ]
  },
  {
   "cell_type": "code",
   "execution_count": 21,
   "metadata": {},
   "outputs": [
    {
     "data": {
      "text/plain": [
       "country\n",
       "China          27.267814\n",
       "Iran            1.856926\n",
       "Netherlands     1.813924\n",
       "Thailand        1.388064\n",
       "Spain           1.342477\n",
       "Name: usd, dtype: float64"
      ]
     },
     "execution_count": 21,
     "metadata": {},
     "output_type": "execute_result"
    }
   ],
   "source": [
    "(comexstat_export['2018'].groupby('country')['usd'].sum()/1000000000).sort_values(ascending=False).head(5)"
   ]
  },
  {
   "cell_type": "code",
   "execution_count": 22,
   "metadata": {},
   "outputs": [
    {
     "data": {
      "text/plain": [
       "country\n",
       "China          19.743307\n",
       "Iran            1.919185\n",
       "Spain           1.571507\n",
       "Netherlands     1.565334\n",
       "Japan           1.436591\n",
       "Name: usd, dtype: float64"
      ]
     },
     "execution_count": 22,
     "metadata": {},
     "output_type": "execute_result"
    }
   ],
   "source": [
    "(comexstat_export['2019'].groupby('country')['usd'].sum()/1000000000).sort_values(ascending=False).head(5)"
   ]
  },
  {
   "cell_type": "code",
   "execution_count": 23,
   "metadata": {},
   "outputs": [],
   "source": [
    "#the most important trade partners for Brazil in terms of ‘corn’ and ‘sugar’ in the last 3 years\n",
    "#import\n",
    "corn=comexstat[(comexstat['product'] =='corn')&(comexstat.type =='Export')]\n",
    "corn.to_csv('corn.csv', index=False)\n",
    "corn = pd.read_csv('corn.csv', parse_dates=['date'],index_col='date', )\n",
    "corn.index.name = None\n",
    "\n",
    "sugar=comexstat[(comexstat['product'] =='sugar')&(comexstat.type =='Export')]\n",
    "sugar.to_csv('sugar.csv', index=False)\n",
    "sugar = pd.read_csv('sugar.csv', parse_dates=['date'],index_col='date', )\n",
    "sugar.index.name = None"
   ]
  },
  {
   "cell_type": "code",
   "execution_count": 24,
   "metadata": {},
   "outputs": [
    {
     "data": {
      "text/plain": [
       "country\n",
       "Iran           4.355009\n",
       "Vietnam        2.861495\n",
       "Japan          2.491581\n",
       "Egypt          1.960180\n",
       "South Korea    1.779314\n",
       "Name: usd, dtype: float64"
      ]
     },
     "execution_count": 24,
     "metadata": {},
     "output_type": "execute_result"
    }
   ],
   "source": [
    "#corn - 2015-2019\n",
    "(corn['2015':'2020'].groupby('country')['usd'].sum()/1000000000).sort_values(ascending=False).head(5)"
   ]
  },
  {
   "cell_type": "code",
   "execution_count": 25,
   "metadata": {},
   "outputs": [
    {
     "data": {
      "text/plain": [
       "country\n",
       "Japan          1082.350215\n",
       "Iran            943.665065\n",
       "Vietnam         648.134446\n",
       "South Korea     565.388297\n",
       "Egypt           543.123377\n",
       "Name: usd, dtype: float64"
      ]
     },
     "execution_count": 25,
     "metadata": {},
     "output_type": "execute_result"
    }
   ],
   "source": [
    "#corn - 2019\n",
    "(corn['2019'].groupby('country')['usd'].sum()/1000000).sort_values(ascending=False).head(5)"
   ]
  },
  {
   "cell_type": "code",
   "execution_count": 26,
   "metadata": {},
   "outputs": [
    {
     "data": {
      "text/plain": [
       "country\n",
       "Iran        1096.062061\n",
       "Vietnam      490.681604\n",
       "Spain        377.941617\n",
       "Egypt        331.566446\n",
       "Malaysia     205.988506\n",
       "Name: usd, dtype: float64"
      ]
     },
     "execution_count": 26,
     "metadata": {},
     "output_type": "execute_result"
    }
   ],
   "source": [
    "#corn - 2018\n",
    "(corn['2018'].groupby('country')['usd'].sum()/1000000).sort_values(ascending=False).head(5)"
   ]
  },
  {
   "cell_type": "code",
   "execution_count": 27,
   "metadata": {},
   "outputs": [
    {
     "data": {
      "text/plain": [
       "country\n",
       "Iran       782.609155\n",
       "Egypt      500.375313\n",
       "Japan      451.950806\n",
       "Spain      436.927252\n",
       "Vietnam    412.219158\n",
       "Name: usd, dtype: float64"
      ]
     },
     "execution_count": 27,
     "metadata": {},
     "output_type": "execute_result"
    }
   ],
   "source": [
    "#corn - 2017\n",
    "(corn['2017'].groupby('country')['usd'].sum()/1000000).sort_values(ascending=False).head(5)"
   ]
  },
  {
   "cell_type": "code",
   "execution_count": 28,
   "metadata": {},
   "outputs": [
    {
     "data": {
      "text/plain": [
       "country\n",
       "Iran           795.990284\n",
       "Vietnam        479.473760\n",
       "Japan          455.424226\n",
       "Malaysia       272.436166\n",
       "South Korea    249.832584\n",
       "Name: usd, dtype: float64"
      ]
     },
     "execution_count": 28,
     "metadata": {},
     "output_type": "execute_result"
    }
   ],
   "source": [
    "#corn - 2016\n",
    "(corn['2016'].groupby('country')['usd'].sum()/1000000).sort_values(ascending=False).head(5)"
   ]
  },
  {
   "cell_type": "code",
   "execution_count": 29,
   "metadata": {},
   "outputs": [
    {
     "data": {
      "text/plain": [
       "country\n",
       "Vietnam        830.986073\n",
       "Iran           736.682660\n",
       "South Korea    504.913907\n",
       "Japan          461.180894\n",
       "Taiwan         373.492723\n",
       "Name: usd, dtype: float64"
      ]
     },
     "execution_count": 29,
     "metadata": {},
     "output_type": "execute_result"
    }
   ],
   "source": [
    "#corn - 2015\n",
    "(corn['2015'].groupby('country')['usd'].sum()/1000000).sort_values(ascending=False).head(5)"
   ]
  },
  {
   "cell_type": "code",
   "execution_count": 30,
   "metadata": {},
   "outputs": [
    {
     "data": {
      "text/plain": [
       "country\n",
       "Bangladesh              3.492419\n",
       "Algeria                 3.400336\n",
       "India                   3.038610\n",
       "United Arab Emirates    2.552705\n",
       "China                   2.328543\n",
       "Name: usd, dtype: float64"
      ]
     },
     "execution_count": 30,
     "metadata": {},
     "output_type": "execute_result"
    }
   ],
   "source": [
    "#sugar - 2015-2019\n",
    "(sugar['2015':'2020'].groupby('country')['usd'].sum()/1000000000).sort_values(ascending=False).head(5)"
   ]
  },
  {
   "cell_type": "code",
   "execution_count": 31,
   "metadata": {},
   "outputs": [
    {
     "data": {
      "text/plain": [
       "country\n",
       "Algeria         623.977094\n",
       "Bangladesh      473.683659\n",
       "Nigeria         407.294732\n",
       "Saudi Arabia    395.616122\n",
       "China           390.299264\n",
       "Name: usd, dtype: float64"
      ]
     },
     "execution_count": 31,
     "metadata": {},
     "output_type": "execute_result"
    }
   ],
   "source": [
    "#sugar - 2019\n",
    "(sugar['2019'].groupby('country')['usd'].sum()/1000000).sort_values(ascending=False).head(5)"
   ]
  },
  {
   "cell_type": "code",
   "execution_count": 32,
   "metadata": {},
   "outputs": [
    {
     "data": {
      "text/plain": [
       "country\n",
       "Iran        1096.062061\n",
       "Vietnam      490.681604\n",
       "Spain        377.941617\n",
       "Egypt        331.566446\n",
       "Malaysia     205.988506\n",
       "Name: usd, dtype: float64"
      ]
     },
     "execution_count": 32,
     "metadata": {},
     "output_type": "execute_result"
    }
   ],
   "source": [
    "#corn - 2018\n",
    "(corn['2018'].groupby('country')['usd'].sum()/1000000).sort_values(ascending=False).head(5)"
   ]
  },
  {
   "cell_type": "code",
   "execution_count": 33,
   "metadata": {},
   "outputs": [
    {
     "data": {
      "text/plain": [
       "country\n",
       "Iran       782.609155\n",
       "Egypt      500.375313\n",
       "Japan      451.950806\n",
       "Spain      436.927252\n",
       "Vietnam    412.219158\n",
       "Name: usd, dtype: float64"
      ]
     },
     "execution_count": 33,
     "metadata": {},
     "output_type": "execute_result"
    }
   ],
   "source": [
    "#corn - 2017\n",
    "(corn['2017'].groupby('country')['usd'].sum()/1000000).sort_values(ascending=False).head(5)"
   ]
  },
  {
   "cell_type": "code",
   "execution_count": 34,
   "metadata": {},
   "outputs": [
    {
     "data": {
      "text/plain": [
       "country\n",
       "Iran           795.990284\n",
       "Vietnam        479.473760\n",
       "Japan          455.424226\n",
       "Malaysia       272.436166\n",
       "South Korea    249.832584\n",
       "Name: usd, dtype: float64"
      ]
     },
     "execution_count": 34,
     "metadata": {},
     "output_type": "execute_result"
    }
   ],
   "source": [
    "#corn - 2016\n",
    "(corn['2016'].groupby('country')['usd'].sum()/1000000).sort_values(ascending=False).head(5)"
   ]
  },
  {
   "cell_type": "code",
   "execution_count": 35,
   "metadata": {},
   "outputs": [
    {
     "data": {
      "text/plain": [
       "country\n",
       "Vietnam        830.986073\n",
       "Iran           736.682660\n",
       "South Korea    504.913907\n",
       "Japan          461.180894\n",
       "Taiwan         373.492723\n",
       "Name: usd, dtype: float64"
      ]
     },
     "execution_count": 35,
     "metadata": {},
     "output_type": "execute_result"
    }
   ],
   "source": [
    "#corn - 2015\n",
    "(corn['2015'].groupby('country')['usd'].sum()/1000000).sort_values(ascending=False).head(5)"
   ]
  },
  {
   "cell_type": "code",
   "execution_count": 36,
   "metadata": {},
   "outputs": [
    {
     "data": {
      "text/plain": [
       "Text(0.5, 1.0, 'The Biggest Sugar Buyer 2015-2019')"
      ]
     },
     "execution_count": 36,
     "metadata": {},
     "output_type": "execute_result"
    },
    {
     "data": {
      "image/png": "[encoded data removed]",
      "text/plain": [
       "<Figure size 1296x720 with 2 Axes>"
      ]
     },
     "metadata": {
      "needs_background": "light"
     },
     "output_type": "display_data"
    }
   ],
   "source": [
    "#Corn X Sugar\n",
    "corn1 = (corn['2015':'2020'].groupby('country')['usd'].sum()/1000000).sort_values(ascending=False).head(5).tolist()\n",
    "corn_plan1 = (corn['2015':'2020'].groupby('country')['usd'].sum().sort_values(ascending=False)/1000000).head(5).index.tolist()\n",
    "yc_pos1 = np.arange(len(corn_plan1))\n",
    "plt.figure(figsize=(18,10))\n",
    "plt.subplot(221)\n",
    "plt.bar(yc_pos1, corn1, align='center', alpha=0.5)\n",
    "plt.xticks(yc_pos1, corn_plan1, rotation=0)\n",
    "plt.ylabel('usd (million)')\n",
    "plt.title('The Biggest Corn Buyer 2015-2019')\n",
    "\n",
    "#Corn X Sugar\n",
    "sugar1 = (sugar['2015':'2020'].groupby('country')['usd'].sum()/1000000).sort_values(ascending=False).head(5).tolist()\n",
    "sugar_plan1 = (sugar['2015':'2020'].groupby('country')['usd'].sum().sort_values(ascending=False)/1000000).head(5).index.tolist()\n",
    "ys_pos1 = np.arange(len(sugar_plan1))\n",
    "plt.subplot(222)\n",
    "plt.bar(ys_pos1, sugar1, align='center', alpha=0.5)\n",
    "plt.xticks(ys_pos1, sugar_plan1, rotation=0)\n",
    "plt.ylabel('usd (million)')\n",
    "plt.title('The Biggest Sugar Buyer 2015-2019')"
   ]
  },
  {
   "cell_type": "code",
   "execution_count": null,
   "metadata": {},
   "outputs": [],
   "source": []
  },
  {
   "cell_type": "code",
   "execution_count": null,
   "metadata": {},
   "outputs": [],
   "source": []
  },
  {
   "cell_type": "code",
   "execution_count": null,
   "metadata": {},
   "outputs": [],
   "source": []
  },
  {
   "cell_type": "code",
   "execution_count": null,
   "metadata": {},
   "outputs": [],
   "source": []
  }
 ],
 "metadata": {
  "kernelspec": {
   "display_name": "Python 3",
   "language": "python",
   "name": "python3"
  },
  "language_info": {
   "codemirror_mode": {
    "name": "ipython",
    "version": 3
   },
   "file_extension": ".py",
   "mimetype": "text/x-python",
   "name": "python",
   "nbconvert_exporter": "python",
   "pygments_lexer": "ipython3",
   "version": "3.7.3"
  }
 },
 "nbformat": 4,
 "nbformat_minor": 2
}
